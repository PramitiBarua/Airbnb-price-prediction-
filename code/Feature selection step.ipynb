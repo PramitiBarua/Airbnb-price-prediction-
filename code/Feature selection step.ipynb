{
 "cells": [
  {
   "cell_type": "code",
   "execution_count": 90,
   "id": "53784d65",
   "metadata": {},
   "outputs": [],
   "source": [
    "import matplotlib.pyplot as plt\n",
    "import seaborn as sns\n",
    "import numpy as np\n",
    "import pandas as pd\n",
    "from sklearn.metrics import balanced_accuracy_score, f1_score, confusion_matrix \n",
    "from sklearn.model_selection import train_test_split\n",
    "from sklearn import preprocessing"
   ]
  },
  {
   "cell_type": "code",
   "execution_count": 91,
   "id": "48dcd39d",
   "metadata": {},
   "outputs": [
    {
     "data": {
      "text/html": [
       "<div>\n",
       "<style scoped>\n",
       "    .dataframe tbody tr th:only-of-type {\n",
       "        vertical-align: middle;\n",
       "    }\n",
       "\n",
       "    .dataframe tbody tr th {\n",
       "        vertical-align: top;\n",
       "    }\n",
       "\n",
       "    .dataframe thead th {\n",
       "        text-align: right;\n",
       "    }\n",
       "</style>\n",
       "<table border=\"1\" class=\"dataframe\">\n",
       "  <thead>\n",
       "    <tr style=\"text-align: right;\">\n",
       "      <th></th>\n",
       "      <th>name</th>\n",
       "      <th>host_id</th>\n",
       "      <th>host_name</th>\n",
       "      <th>neighbourhood_group</th>\n",
       "      <th>neighbourhood</th>\n",
       "      <th>latitude</th>\n",
       "      <th>longitude</th>\n",
       "      <th>room_type</th>\n",
       "      <th>price</th>\n",
       "      <th>minimum_nights</th>\n",
       "      <th>number_of_reviews</th>\n",
       "      <th>last_review</th>\n",
       "      <th>reviews_per_month</th>\n",
       "      <th>calculated_host_listings_count</th>\n",
       "      <th>availability_365</th>\n",
       "    </tr>\n",
       "  </thead>\n",
       "  <tbody>\n",
       "    <tr>\n",
       "      <th>0</th>\n",
       "      <td>Clean &amp; quiet apt home by the park</td>\n",
       "      <td>2787</td>\n",
       "      <td>John</td>\n",
       "      <td>Brooklyn</td>\n",
       "      <td>Kensington</td>\n",
       "      <td>40.64749</td>\n",
       "      <td>-73.97237</td>\n",
       "      <td>Private room</td>\n",
       "      <td>5.010635</td>\n",
       "      <td>1</td>\n",
       "      <td>9</td>\n",
       "      <td>2018-10-19</td>\n",
       "      <td>0.21</td>\n",
       "      <td>6</td>\n",
       "      <td>365</td>\n",
       "    </tr>\n",
       "    <tr>\n",
       "      <th>1</th>\n",
       "      <td>Skylit Midtown Castle</td>\n",
       "      <td>2845</td>\n",
       "      <td>Jennifer</td>\n",
       "      <td>Manhattan</td>\n",
       "      <td>Midtown</td>\n",
       "      <td>40.75362</td>\n",
       "      <td>-73.98377</td>\n",
       "      <td>Entire home/apt</td>\n",
       "      <td>5.420535</td>\n",
       "      <td>1</td>\n",
       "      <td>45</td>\n",
       "      <td>2019-05-21</td>\n",
       "      <td>0.38</td>\n",
       "      <td>2</td>\n",
       "      <td>355</td>\n",
       "    </tr>\n",
       "    <tr>\n",
       "      <th>2</th>\n",
       "      <td>THE VILLAGE OF HARLEM....NEW YORK !</td>\n",
       "      <td>4632</td>\n",
       "      <td>Elisabeth</td>\n",
       "      <td>Manhattan</td>\n",
       "      <td>Harlem</td>\n",
       "      <td>40.80902</td>\n",
       "      <td>-73.94190</td>\n",
       "      <td>Private room</td>\n",
       "      <td>5.017280</td>\n",
       "      <td>3</td>\n",
       "      <td>0</td>\n",
       "      <td>2011-03-28</td>\n",
       "      <td>0.00</td>\n",
       "      <td>1</td>\n",
       "      <td>365</td>\n",
       "    </tr>\n",
       "    <tr>\n",
       "      <th>3</th>\n",
       "      <td>Cozy Entire Floor of Brownstone</td>\n",
       "      <td>4869</td>\n",
       "      <td>LisaRoxanne</td>\n",
       "      <td>Brooklyn</td>\n",
       "      <td>Clinton Hill</td>\n",
       "      <td>40.68514</td>\n",
       "      <td>-73.95976</td>\n",
       "      <td>Entire home/apt</td>\n",
       "      <td>4.499810</td>\n",
       "      <td>1</td>\n",
       "      <td>270</td>\n",
       "      <td>2019-07-05</td>\n",
       "      <td>4.64</td>\n",
       "      <td>1</td>\n",
       "      <td>194</td>\n",
       "    </tr>\n",
       "    <tr>\n",
       "      <th>4</th>\n",
       "      <td>Entire Apt: Spacious Studio/Loft by central park</td>\n",
       "      <td>7192</td>\n",
       "      <td>Laura</td>\n",
       "      <td>Manhattan</td>\n",
       "      <td>East Harlem</td>\n",
       "      <td>40.79851</td>\n",
       "      <td>-73.94399</td>\n",
       "      <td>Entire home/apt</td>\n",
       "      <td>4.394449</td>\n",
       "      <td>10</td>\n",
       "      <td>9</td>\n",
       "      <td>2018-11-19</td>\n",
       "      <td>0.10</td>\n",
       "      <td>1</td>\n",
       "      <td>0</td>\n",
       "    </tr>\n",
       "  </tbody>\n",
       "</table>\n",
       "</div>"
      ],
      "text/plain": [
       "                                               name  host_id    host_name  \\\n",
       "0                Clean & quiet apt home by the park     2787         John   \n",
       "1                             Skylit Midtown Castle     2845     Jennifer   \n",
       "2               THE VILLAGE OF HARLEM....NEW YORK !     4632    Elisabeth   \n",
       "3                   Cozy Entire Floor of Brownstone     4869  LisaRoxanne   \n",
       "4  Entire Apt: Spacious Studio/Loft by central park     7192        Laura   \n",
       "\n",
       "  neighbourhood_group neighbourhood  latitude  longitude        room_type  \\\n",
       "0            Brooklyn    Kensington  40.64749  -73.97237     Private room   \n",
       "1           Manhattan       Midtown  40.75362  -73.98377  Entire home/apt   \n",
       "2           Manhattan        Harlem  40.80902  -73.94190     Private room   \n",
       "3            Brooklyn  Clinton Hill  40.68514  -73.95976  Entire home/apt   \n",
       "4           Manhattan   East Harlem  40.79851  -73.94399  Entire home/apt   \n",
       "\n",
       "      price  minimum_nights  number_of_reviews last_review  reviews_per_month  \\\n",
       "0  5.010635               1                  9  2018-10-19               0.21   \n",
       "1  5.420535               1                 45  2019-05-21               0.38   \n",
       "2  5.017280               3                  0  2011-03-28               0.00   \n",
       "3  4.499810               1                270  2019-07-05               4.64   \n",
       "4  4.394449              10                  9  2018-11-19               0.10   \n",
       "\n",
       "   calculated_host_listings_count  availability_365  \n",
       "0                               6               365  \n",
       "1                               2               355  \n",
       "2                               1               365  \n",
       "3                               1               194  \n",
       "4                               1                 0  "
      ]
     },
     "execution_count": 91,
     "metadata": {},
     "output_type": "execute_result"
    }
   ],
   "source": [
    "nyc_data = pd.read_csv('../data/nyc_data_cleaned.csv')\n",
    "nyc_data.head()"
   ]
  },
  {
   "cell_type": "code",
   "execution_count": 92,
   "id": "7504758d",
   "metadata": {},
   "outputs": [
    {
     "data": {
      "text/html": [
       "<div>\n",
       "<style scoped>\n",
       "    .dataframe tbody tr th:only-of-type {\n",
       "        vertical-align: middle;\n",
       "    }\n",
       "\n",
       "    .dataframe tbody tr th {\n",
       "        vertical-align: top;\n",
       "    }\n",
       "\n",
       "    .dataframe thead th {\n",
       "        text-align: right;\n",
       "    }\n",
       "</style>\n",
       "<table border=\"1\" class=\"dataframe\">\n",
       "  <thead>\n",
       "    <tr style=\"text-align: right;\">\n",
       "      <th></th>\n",
       "      <th>name</th>\n",
       "      <th>host_id</th>\n",
       "      <th>host_name</th>\n",
       "      <th>neighbourhood_group</th>\n",
       "      <th>neighbourhood</th>\n",
       "      <th>latitude</th>\n",
       "      <th>longitude</th>\n",
       "      <th>room_type</th>\n",
       "      <th>price</th>\n",
       "      <th>minimum_nights</th>\n",
       "      <th>number_of_reviews</th>\n",
       "      <th>last_review</th>\n",
       "      <th>reviews_per_month</th>\n",
       "      <th>calculated_host_listings_count</th>\n",
       "      <th>availability_365</th>\n",
       "    </tr>\n",
       "  </thead>\n",
       "  <tbody>\n",
       "    <tr>\n",
       "      <th>0</th>\n",
       "      <td>Clean &amp; quiet apt home by the park</td>\n",
       "      <td>2787</td>\n",
       "      <td>John</td>\n",
       "      <td>1</td>\n",
       "      <td>108</td>\n",
       "      <td>40.64749</td>\n",
       "      <td>-73.97237</td>\n",
       "      <td>Private room</td>\n",
       "      <td>5.010635</td>\n",
       "      <td>1</td>\n",
       "      <td>9</td>\n",
       "      <td>2018-10-19</td>\n",
       "      <td>0.21</td>\n",
       "      <td>6</td>\n",
       "      <td>365</td>\n",
       "    </tr>\n",
       "    <tr>\n",
       "      <th>1</th>\n",
       "      <td>Skylit Midtown Castle</td>\n",
       "      <td>2845</td>\n",
       "      <td>Jennifer</td>\n",
       "      <td>2</td>\n",
       "      <td>127</td>\n",
       "      <td>40.75362</td>\n",
       "      <td>-73.98377</td>\n",
       "      <td>Entire home/apt</td>\n",
       "      <td>5.420535</td>\n",
       "      <td>1</td>\n",
       "      <td>45</td>\n",
       "      <td>2019-05-21</td>\n",
       "      <td>0.38</td>\n",
       "      <td>2</td>\n",
       "      <td>355</td>\n",
       "    </tr>\n",
       "    <tr>\n",
       "      <th>2</th>\n",
       "      <td>THE VILLAGE OF HARLEM....NEW YORK !</td>\n",
       "      <td>4632</td>\n",
       "      <td>Elisabeth</td>\n",
       "      <td>2</td>\n",
       "      <td>94</td>\n",
       "      <td>40.80902</td>\n",
       "      <td>-73.94190</td>\n",
       "      <td>Private room</td>\n",
       "      <td>5.017280</td>\n",
       "      <td>3</td>\n",
       "      <td>0</td>\n",
       "      <td>2011-03-28</td>\n",
       "      <td>0.00</td>\n",
       "      <td>1</td>\n",
       "      <td>365</td>\n",
       "    </tr>\n",
       "    <tr>\n",
       "      <th>3</th>\n",
       "      <td>Cozy Entire Floor of Brownstone</td>\n",
       "      <td>4869</td>\n",
       "      <td>LisaRoxanne</td>\n",
       "      <td>1</td>\n",
       "      <td>41</td>\n",
       "      <td>40.68514</td>\n",
       "      <td>-73.95976</td>\n",
       "      <td>Entire home/apt</td>\n",
       "      <td>4.499810</td>\n",
       "      <td>1</td>\n",
       "      <td>270</td>\n",
       "      <td>2019-07-05</td>\n",
       "      <td>4.64</td>\n",
       "      <td>1</td>\n",
       "      <td>194</td>\n",
       "    </tr>\n",
       "    <tr>\n",
       "      <th>4</th>\n",
       "      <td>Entire Apt: Spacious Studio/Loft by central park</td>\n",
       "      <td>7192</td>\n",
       "      <td>Laura</td>\n",
       "      <td>2</td>\n",
       "      <td>61</td>\n",
       "      <td>40.79851</td>\n",
       "      <td>-73.94399</td>\n",
       "      <td>Entire home/apt</td>\n",
       "      <td>4.394449</td>\n",
       "      <td>10</td>\n",
       "      <td>9</td>\n",
       "      <td>2018-11-19</td>\n",
       "      <td>0.10</td>\n",
       "      <td>1</td>\n",
       "      <td>0</td>\n",
       "    </tr>\n",
       "  </tbody>\n",
       "</table>\n",
       "</div>"
      ],
      "text/plain": [
       "                                               name  host_id    host_name  \\\n",
       "0                Clean & quiet apt home by the park     2787         John   \n",
       "1                             Skylit Midtown Castle     2845     Jennifer   \n",
       "2               THE VILLAGE OF HARLEM....NEW YORK !     4632    Elisabeth   \n",
       "3                   Cozy Entire Floor of Brownstone     4869  LisaRoxanne   \n",
       "4  Entire Apt: Spacious Studio/Loft by central park     7192        Laura   \n",
       "\n",
       "   neighbourhood_group  neighbourhood  latitude  longitude        room_type  \\\n",
       "0                    1            108  40.64749  -73.97237     Private room   \n",
       "1                    2            127  40.75362  -73.98377  Entire home/apt   \n",
       "2                    2             94  40.80902  -73.94190     Private room   \n",
       "3                    1             41  40.68514  -73.95976  Entire home/apt   \n",
       "4                    2             61  40.79851  -73.94399  Entire home/apt   \n",
       "\n",
       "      price  minimum_nights  number_of_reviews last_review  reviews_per_month  \\\n",
       "0  5.010635               1                  9  2018-10-19               0.21   \n",
       "1  5.420535               1                 45  2019-05-21               0.38   \n",
       "2  5.017280               3                  0  2011-03-28               0.00   \n",
       "3  4.499810               1                270  2019-07-05               4.64   \n",
       "4  4.394449              10                  9  2018-11-19               0.10   \n",
       "\n",
       "   calculated_host_listings_count  availability_365  \n",
       "0                               6               365  \n",
       "1                               2               355  \n",
       "2                               1               365  \n",
       "3                               1               194  \n",
       "4                               1                 0  "
      ]
     },
     "execution_count": 92,
     "metadata": {},
     "output_type": "execute_result"
    }
   ],
   "source": [
    "nyc_data[\"neighbourhood\"]= nyc_data[\"neighbourhood\"].astype('category')\n",
    "nyc_data[\"neighbourhood\"] = nyc_data[\"neighbourhood\"].cat.codes\n",
    "nyc_data[\"neighbourhood_group\"]= nyc_data[\"neighbourhood_group\"].astype('category')\n",
    "nyc_data[\"neighbourhood_group\"] = nyc_data[\"neighbourhood_group\"].cat.codes\n",
    "nyc_data.head()"
   ]
  },
  {
   "cell_type": "markdown",
   "id": "12b4e771",
   "metadata": {},
   "source": [
    "Manually delete the columns name and host_name as it is not a good idea to use user's personal information."
   ]
  },
  {
   "cell_type": "code",
   "execution_count": 93,
   "id": "0469fada",
   "metadata": {},
   "outputs": [],
   "source": [
    "nyc_data_manual = nyc_data.drop(columns = ['name', 'host_name'], axis=1)"
   ]
  },
  {
   "cell_type": "code",
   "execution_count": 94,
   "id": "c9d6bd1c",
   "metadata": {},
   "outputs": [
    {
     "data": {
      "text/plain": [
       "host_id                             int64\n",
       "neighbourhood_group                  int8\n",
       "neighbourhood                       int16\n",
       "latitude                          float64\n",
       "longitude                         float64\n",
       "room_type                          object\n",
       "price                             float64\n",
       "minimum_nights                      int64\n",
       "number_of_reviews                   int64\n",
       "last_review                        object\n",
       "reviews_per_month                 float64\n",
       "calculated_host_listings_count      int64\n",
       "availability_365                    int64\n",
       "dtype: object"
      ]
     },
     "execution_count": 94,
     "metadata": {},
     "output_type": "execute_result"
    }
   ],
   "source": [
    "nyc_data_manual.dtypes"
   ]
  },
  {
   "cell_type": "code",
   "execution_count": 95,
   "id": "bc97357e",
   "metadata": {},
   "outputs": [
    {
     "data": {
      "text/plain": [
       "array(['Private room', 'Entire home/apt', 'Shared room'], dtype=object)"
      ]
     },
     "execution_count": 95,
     "metadata": {},
     "output_type": "execute_result"
    }
   ],
   "source": [
    "nyc_data_manual.room_type.unique()"
   ]
  },
  {
   "cell_type": "code",
   "execution_count": 96,
   "id": "d3849819",
   "metadata": {},
   "outputs": [
    {
     "data": {
      "text/html": [
       "<div>\n",
       "<style scoped>\n",
       "    .dataframe tbody tr th:only-of-type {\n",
       "        vertical-align: middle;\n",
       "    }\n",
       "\n",
       "    .dataframe tbody tr th {\n",
       "        vertical-align: top;\n",
       "    }\n",
       "\n",
       "    .dataframe thead th {\n",
       "        text-align: right;\n",
       "    }\n",
       "</style>\n",
       "<table border=\"1\" class=\"dataframe\">\n",
       "  <thead>\n",
       "    <tr style=\"text-align: right;\">\n",
       "      <th></th>\n",
       "      <th>host_id</th>\n",
       "      <th>neighbourhood_group</th>\n",
       "      <th>neighbourhood</th>\n",
       "      <th>latitude</th>\n",
       "      <th>longitude</th>\n",
       "      <th>room_type</th>\n",
       "      <th>price</th>\n",
       "      <th>minimum_nights</th>\n",
       "      <th>number_of_reviews</th>\n",
       "      <th>last_review</th>\n",
       "      <th>reviews_per_month</th>\n",
       "      <th>calculated_host_listings_count</th>\n",
       "      <th>availability_365</th>\n",
       "    </tr>\n",
       "  </thead>\n",
       "  <tbody>\n",
       "    <tr>\n",
       "      <th>0</th>\n",
       "      <td>2787</td>\n",
       "      <td>1</td>\n",
       "      <td>108</td>\n",
       "      <td>40.64749</td>\n",
       "      <td>-73.97237</td>\n",
       "      <td>1</td>\n",
       "      <td>5.010635</td>\n",
       "      <td>1</td>\n",
       "      <td>9</td>\n",
       "      <td>2018-10-19</td>\n",
       "      <td>0.21</td>\n",
       "      <td>6</td>\n",
       "      <td>365</td>\n",
       "    </tr>\n",
       "    <tr>\n",
       "      <th>1</th>\n",
       "      <td>2845</td>\n",
       "      <td>2</td>\n",
       "      <td>127</td>\n",
       "      <td>40.75362</td>\n",
       "      <td>-73.98377</td>\n",
       "      <td>0</td>\n",
       "      <td>5.420535</td>\n",
       "      <td>1</td>\n",
       "      <td>45</td>\n",
       "      <td>2019-05-21</td>\n",
       "      <td>0.38</td>\n",
       "      <td>2</td>\n",
       "      <td>355</td>\n",
       "    </tr>\n",
       "    <tr>\n",
       "      <th>2</th>\n",
       "      <td>4632</td>\n",
       "      <td>2</td>\n",
       "      <td>94</td>\n",
       "      <td>40.80902</td>\n",
       "      <td>-73.94190</td>\n",
       "      <td>1</td>\n",
       "      <td>5.017280</td>\n",
       "      <td>3</td>\n",
       "      <td>0</td>\n",
       "      <td>2011-03-28</td>\n",
       "      <td>0.00</td>\n",
       "      <td>1</td>\n",
       "      <td>365</td>\n",
       "    </tr>\n",
       "    <tr>\n",
       "      <th>3</th>\n",
       "      <td>4869</td>\n",
       "      <td>1</td>\n",
       "      <td>41</td>\n",
       "      <td>40.68514</td>\n",
       "      <td>-73.95976</td>\n",
       "      <td>0</td>\n",
       "      <td>4.499810</td>\n",
       "      <td>1</td>\n",
       "      <td>270</td>\n",
       "      <td>2019-07-05</td>\n",
       "      <td>4.64</td>\n",
       "      <td>1</td>\n",
       "      <td>194</td>\n",
       "    </tr>\n",
       "    <tr>\n",
       "      <th>4</th>\n",
       "      <td>7192</td>\n",
       "      <td>2</td>\n",
       "      <td>61</td>\n",
       "      <td>40.79851</td>\n",
       "      <td>-73.94399</td>\n",
       "      <td>0</td>\n",
       "      <td>4.394449</td>\n",
       "      <td>10</td>\n",
       "      <td>9</td>\n",
       "      <td>2018-11-19</td>\n",
       "      <td>0.10</td>\n",
       "      <td>1</td>\n",
       "      <td>0</td>\n",
       "    </tr>\n",
       "  </tbody>\n",
       "</table>\n",
       "</div>"
      ],
      "text/plain": [
       "   host_id  neighbourhood_group  neighbourhood  latitude  longitude  \\\n",
       "0     2787                    1            108  40.64749  -73.97237   \n",
       "1     2845                    2            127  40.75362  -73.98377   \n",
       "2     4632                    2             94  40.80902  -73.94190   \n",
       "3     4869                    1             41  40.68514  -73.95976   \n",
       "4     7192                    2             61  40.79851  -73.94399   \n",
       "\n",
       "   room_type     price  minimum_nights  number_of_reviews last_review  \\\n",
       "0          1  5.010635               1                  9  2018-10-19   \n",
       "1          0  5.420535               1                 45  2019-05-21   \n",
       "2          1  5.017280               3                  0  2011-03-28   \n",
       "3          0  4.499810               1                270  2019-07-05   \n",
       "4          0  4.394449              10                  9  2018-11-19   \n",
       "\n",
       "   reviews_per_month  calculated_host_listings_count  availability_365  \n",
       "0               0.21                               6               365  \n",
       "1               0.38                               2               355  \n",
       "2               0.00                               1               365  \n",
       "3               4.64                               1               194  \n",
       "4               0.10                               1                 0  "
      ]
     },
     "execution_count": 96,
     "metadata": {},
     "output_type": "execute_result"
    }
   ],
   "source": [
    "nyc_data_manual[\"room_type\"]= nyc_data_manual[\"room_type\"].astype('category')\n",
    "nyc_data_manual[\"room_type\"] = nyc_data_manual[\"room_type\"].cat.codes\n",
    "nyc_data_manual.head()"
   ]
  },
  {
   "cell_type": "markdown",
   "id": "4c237356",
   "metadata": {},
   "source": [
    "Deleting latitude and longitude as they have negative values\n"
   ]
  },
  {
   "cell_type": "code",
   "execution_count": 97,
   "id": "161281ad",
   "metadata": {},
   "outputs": [],
   "source": [
    "nyc_data_manual = nyc_data_manual.drop(columns = ['latitude', 'longitude'], axis=1)"
   ]
  },
  {
   "cell_type": "code",
   "execution_count": 98,
   "id": "b188427f",
   "metadata": {},
   "outputs": [
    {
     "data": {
      "text/plain": [
       "host_id                             int64\n",
       "neighbourhood_group                  int8\n",
       "neighbourhood                       int16\n",
       "room_type                            int8\n",
       "price                             float64\n",
       "minimum_nights                      int64\n",
       "number_of_reviews                   int64\n",
       "last_review                        object\n",
       "reviews_per_month                 float64\n",
       "calculated_host_listings_count      int64\n",
       "availability_365                    int64\n",
       "dtype: object"
      ]
     },
     "execution_count": 98,
     "metadata": {},
     "output_type": "execute_result"
    }
   ],
   "source": [
    "nyc_data_manual.dtypes"
   ]
  },
  {
   "cell_type": "markdown",
   "id": "21343def",
   "metadata": {},
   "source": [
    "Eliminating object type columns for our analysis"
   ]
  },
  {
   "cell_type": "code",
   "execution_count": 99,
   "id": "3edafa2b",
   "metadata": {},
   "outputs": [
    {
     "name": "stdout",
     "output_type": "stream",
     "text": [
      "host_id                             int64\n",
      "neighbourhood_group                  int8\n",
      "neighbourhood                       int16\n",
      "room_type                            int8\n",
      "price                             float64\n",
      "minimum_nights                      int64\n",
      "number_of_reviews                   int64\n",
      "reviews_per_month                 float64\n",
      "calculated_host_listings_count      int64\n",
      "availability_365                    int64\n",
      "dtype: object\n"
     ]
    },
    {
     "data": {
      "text/plain": [
       "(48895, 10)"
      ]
     },
     "execution_count": 99,
     "metadata": {},
     "output_type": "execute_result"
    }
   ],
   "source": [
    "nyc_mData =  nyc_data_manual.select_dtypes(exclude=['object'])\n",
    "print(nyc_mData.dtypes)\n",
    "nyc_mData.shape"
   ]
  },
  {
   "cell_type": "code",
   "execution_count": 100,
   "id": "4a2995af",
   "metadata": {},
   "outputs": [],
   "source": [
    "nyc_data_copy = nyc_mData.copy()\n",
    "nyc_xData = nyc_data_copy.drop('price',axis=1)"
   ]
  },
  {
   "cell_type": "markdown",
   "id": "db1a3036",
   "metadata": {},
   "source": [
    "Dividing to X and Y "
   ]
  },
  {
   "cell_type": "code",
   "execution_count": 101,
   "id": "894954a0",
   "metadata": {},
   "outputs": [
    {
     "name": "stdout",
     "output_type": "stream",
     "text": [
      "(48895, 9)\n"
     ]
    },
    {
     "data": {
      "text/plain": [
       "(48895,)"
      ]
     },
     "execution_count": 101,
     "metadata": {},
     "output_type": "execute_result"
    }
   ],
   "source": [
    "X = nyc_xData\n",
    "y = nyc_mData[\"price\"]\n",
    "y = y.astype(int)\n",
    "print(X.shape)\n",
    "y.shape"
   ]
  },
  {
   "cell_type": "code",
   "execution_count": 102,
   "id": "e2ca05cf",
   "metadata": {},
   "outputs": [],
   "source": [
    "x_train, x_test, y_train, y_test = train_test_split(X, y, test_size=0.20)\n",
    "\n",
    "x_train = preprocessing.MinMaxScaler().fit_transform(x_train)\n",
    "x_test = preprocessing.MinMaxScaler().fit_transform(x_test)"
   ]
  },
  {
   "cell_type": "markdown",
   "id": "a1e4d91a",
   "metadata": {},
   "source": [
    "Finding feature importance"
   ]
  },
  {
   "cell_type": "code",
   "execution_count": 103,
   "id": "b096765d",
   "metadata": {},
   "outputs": [],
   "source": [
    "from sklearn import metrics\n",
    "from sklearn.ensemble import ExtraTreesClassifier\n",
    "from sklearn.feature_selection import SelectFromModel, SelectKBest\n",
    "from sklearn.linear_model import LogisticRegression\n",
    "from sklearn.model_selection import StratifiedKFold"
   ]
  },
  {
   "cell_type": "code",
   "execution_count": 104,
   "id": "001fb936",
   "metadata": {},
   "outputs": [],
   "source": [
    "skf = StratifiedKFold(n_splits=5, random_state=None, shuffle=False)"
   ]
  },
  {
   "cell_type": "code",
   "execution_count": 105,
   "id": "75233662",
   "metadata": {},
   "outputs": [
    {
     "name": "stdout",
     "output_type": "stream",
     "text": [
      "              0         1         2         3         4         5         6  \\\n",
      "count  5.000000  5.000000  5.000000  5.000000  5.000000  5.000000  5.000000   \n",
      "mean   0.184177  0.045887  0.118638  0.145476  0.111872  0.111626  0.123484   \n",
      "std    0.008735  0.001335  0.001213  0.001421  0.002068  0.001895  0.001261   \n",
      "min    0.170084  0.044410  0.116964  0.143107  0.110315  0.108741  0.122073   \n",
      "25%    0.184122  0.045173  0.118226  0.145382  0.110677  0.111509  0.122613   \n",
      "50%    0.185511  0.045403  0.118440  0.145867  0.111301  0.111673  0.123660   \n",
      "75%    0.187216  0.046662  0.119418  0.146225  0.111611  0.112191  0.123711   \n",
      "max    0.193953  0.047785  0.120143  0.146796  0.115459  0.114016  0.125363   \n",
      "\n",
      "              7         8  \n",
      "count  5.000000  5.000000  \n",
      "mean   0.064472  0.094368  \n",
      "std    0.003807  0.004285  \n",
      "min    0.058170  0.088588  \n",
      "25%    0.064339  0.093639  \n",
      "50%    0.065126  0.093740  \n",
      "75%    0.066615  0.095327  \n",
      "max    0.068108  0.100547  \n",
      "0    0.184177\n",
      "1    0.045887\n",
      "2    0.118638\n",
      "3    0.145476\n",
      "4    0.111872\n",
      "5    0.111626\n",
      "6    0.123484\n",
      "7    0.064472\n",
      "8    0.094368\n",
      "dtype: float64\n"
     ]
    },
    {
     "data": {
      "text/plain": [
       "<AxesSubplot:>"
      ]
     },
     "execution_count": 105,
     "metadata": {},
     "output_type": "execute_result"
    },
    {
     "data": {
      "image/png": "[encoded data removed]",
      "text/plain": [
       "<Figure size 432x288 with 1 Axes>"
      ]
     },
     "metadata": {
      "needs_background": "light"
     },
     "output_type": "display_data"
    }
   ],
   "source": [
    "%matplotlib inline\n",
    "fi = []\n",
    "for trainIndex, testIndex in skf.split(x_train, y_train):\n",
    "    \n",
    "    xTrain, xTest = X.iloc[trainIndex], X.iloc[testIndex]\n",
    "    yTrain, yTest = y.iloc[trainIndex], y.iloc[testIndex]\n",
    "    \n",
    "    \n",
    "    # fit an Extra Trees model to the data\n",
    "    model = ExtraTreesClassifier()\n",
    "    model.fit(xTrain, yTrain)\n",
    "    \n",
    "    fi.append(model.feature_importances_)\n",
    "    \n",
    "    sfm = SelectFromModel(model, threshold=0.15)\n",
    "    sfm.fit(xTrain, yTrain)\n",
    "    xTrain = sfm.transform(xTrain)\n",
    "    xTest = sfm.transform(xTest)\n",
    "        \n",
    "    clf = LogisticRegression(solver=\"liblinear\", multi_class=\"auto\")\n",
    "    clf.fit(xTrain, yTrain)\n",
    "    yPred = clf.predict(xTest)\n",
    "\n",
    "\n",
    "# display the relative importance of each attribute\n",
    "print(pd.DataFrame(fi).describe())\n",
    "print(pd.DataFrame(fi).mean(axis = 0))\n",
    "\n",
    "\n",
    "\n",
    "feats = {} # a dict to hold feature_name: feature_importance\n",
    "for feature, importance in zip(nyc_xData.columns, model.feature_importances_):\n",
    "    feats[feature] = importance #add the name/value pair \n",
    "\n",
    "importances = pd.DataFrame.from_dict(feats, orient='index').rename(columns={0: 'Gini-importance'})\n",
    "importances.sort_values(by='Gini-importance').plot(kind='bar',alpha=0.95, rot=90)\n"
   ]
  },
  {
   "cell_type": "code",
   "execution_count": 106,
   "id": "4984f443",
   "metadata": {},
   "outputs": [],
   "source": [
    "from sklearn.feature_selection import SelectKBest\n",
    "from sklearn.feature_selection import chi2"
   ]
  },
  {
   "cell_type": "code",
   "execution_count": 107,
   "id": "33df8b4a",
   "metadata": {},
   "outputs": [],
   "source": [
    "#apply SelectKBest class to extract top 10 best features\n",
    "bestfeatures = SelectKBest(score_func=chi2, k='all')\n",
    "fit = bestfeatures.fit(X,y)\n",
    "dfscores = pd.DataFrame(fit.scores_)\n",
    "dfcolumns = pd.DataFrame(nyc_xData.columns)"
   ]
  },
  {
   "cell_type": "code",
   "execution_count": 108,
   "id": "c3d6a4b4",
   "metadata": {},
   "outputs": [
    {
     "name": "stdout",
     "output_type": "stream",
     "text": [
      "                            Specs         Score\n",
      "0                         host_id  4.427848e+10\n",
      "7  calculated_host_listings_count  1.788451e+05\n",
      "8                availability_365  1.016135e+05\n",
      "2                   neighbourhood  4.093165e+04\n",
      "5               number_of_reviews  2.945984e+04\n",
      "3                       room_type  1.005998e+04\n",
      "4                  minimum_nights  8.080855e+03\n",
      "6               reviews_per_month  6.195369e+02\n",
      "1             neighbourhood_group  9.219293e+01\n"
     ]
    }
   ],
   "source": [
    "#concat two dataframes for better visualization \n",
    "featureScores = pd.concat([dfcolumns,dfscores],axis=1)\n",
    "featureScores.columns = ['Specs','Score']  #naming the dataframe columns\n",
    "print(featureScores.nlargest(10,'Score'))  #print 10 best features"
   ]
  },
  {
   "cell_type": "code",
   "execution_count": 109,
   "id": "6fa0a842",
   "metadata": {},
   "outputs": [],
   "source": [
    "x_train, x_test, y_train, y_test = train_test_split(X, y, test_size=0.20)\n",
    "x_train = preprocessing.MinMaxScaler().fit_transform(x_train)\n",
    "x_test = preprocessing.MinMaxScaler().fit_transform(x_test)"
   ]
  },
  {
   "cell_type": "code",
   "execution_count": 110,
   "id": "4a63e4b6",
   "metadata": {},
   "outputs": [
    {
     "data": {
      "text/plain": [
       "array([False, False, False, False,  True,  True,  True,  True, False])"
      ]
     },
     "execution_count": 110,
     "metadata": {},
     "output_type": "execute_result"
    }
   ],
   "source": [
    "## Lasso Feature Selection\n",
    "### Model Lasso regression\n",
    "lasso_model = SelectFromModel(LogisticRegression(C=1, penalty='none',max_iter=10000))\n",
    "lasso_model.fit(x_train, y_train)\n",
    "lasso_model.get_support()"
   ]
  },
  {
   "cell_type": "code",
   "execution_count": 111,
   "id": "aaf81470",
   "metadata": {},
   "outputs": [
    {
     "name": "stdout",
     "output_type": "stream",
     "text": [
      "total features: 9\n",
      "selected features: 9\n",
      "features with coefficients shrank to zero: 0\n"
     ]
    }
   ],
   "source": [
    "feature_importances = pd.DataFrame(lasso_model.get_support(),index = X.columns,columns=['importance']).sort_values('importance',ascending=False)\n",
    "\n",
    "print('total features: {}'.format((x_train.shape[1])))\n",
    "print('selected features: {}'.format(len(feature_importances)))\n",
    "print('features with coefficients shrank to zero: {}'.format(\n",
    "      np.sum(lasso_model.estimator_.coef_ == 0)))"
   ]
  },
  {
   "cell_type": "code",
   "execution_count": 112,
   "id": "722302ed",
   "metadata": {},
   "outputs": [
    {
     "name": "stdout",
     "output_type": "stream",
     "text": [
      "training set: 0.3404857702880406\n",
      "validation set: 0.329608703761367\n",
      "[ True  True  True  True  True  True  True  True  True]\n",
      "total number of parameters: 9\n"
     ]
    },
    {
     "data": {
      "image/png": "[encoded data removed]",
      "text/plain": [
       "<Figure size 432x288 with 1 Axes>"
      ]
     },
     "metadata": {
      "needs_background": "light"
     },
     "output_type": "display_data"
    },
    {
     "data": {
      "image/png": "[encoded data removed]",
      "text/plain": [
       "<Figure size 432x288 with 1 Axes>"
      ]
     },
     "metadata": {
      "needs_background": "light"
     },
     "output_type": "display_data"
    },
    {
     "name": "stdout",
     "output_type": "stream",
     "text": [
      "0.3404857702880406\n",
      "0.3402665056727714\n"
     ]
    }
   ],
   "source": [
    "from sklearn.linear_model import Lasso\n",
    "from sklearn.linear_model import LassoCV\n",
    "from sklearn.metrics import r2_score\n",
    "\n",
    "model_lasso = LassoCV(n_alphas=10, max_iter=1e5).fit(x_train, y_train)\n",
    "model_lasso = model_lasso.fit(x_train, y_train)\n",
    "print('training set:', model_lasso.score(x_train, y_train))\n",
    "y_pred_train_lasso = model_lasso.predict(x_train)\n",
    "y_pred_val_lasso = model_lasso.predict(x_test)\n",
    "print('validation set:', model_lasso.score(x_test, y_test))\n",
    "coefs = np.array(model_lasso.coef_!=0)\n",
    "np.save('selected_coefs.txt', coefs)\n",
    "print(coefs)\n",
    "print('total number of parameters:', sum(model_lasso.coef_!=0))\n",
    "#plt.figure(1)\n",
    "plt.scatter(y_pred_train_lasso, y_train)\n",
    "#plt.figure(2)\n",
    "plt.show()\n",
    "plt.scatter(y_pred_val_lasso, y_test)\n",
    "plt.show()\n",
    "a = r2_score(y_train,y_pred_train_lasso)\n",
    "n =len(x_train)\n",
    "print(a)\n",
    "r2_adj = 1- (1-a)*(n-1)/(n-(13+1))\n",
    "print(r2_adj)"
   ]
  },
  {
   "cell_type": "code",
   "execution_count": 113,
   "id": "ab995eb4",
   "metadata": {},
   "outputs": [
    {
     "name": "stdout",
     "output_type": "stream",
     "text": [
      "                            Specs         Score\n",
      "0                         host_id  4.427848e+10\n",
      "7  calculated_host_listings_count  1.788451e+05\n",
      "8                availability_365  1.016135e+05\n",
      "2                   neighbourhood  4.093165e+04\n",
      "5               number_of_reviews  2.945984e+04\n",
      "3                       room_type  1.005998e+04\n",
      "4                  minimum_nights  8.080855e+03\n",
      "6               reviews_per_month  6.195369e+02\n",
      "1             neighbourhood_group  9.219293e+01\n"
     ]
    }
   ],
   "source": [
    "from sklearn import feature_selection\n",
    "\n",
    "linear_reg = SelectKBest(score_func=feature_selection.f_regression,k=4)\n",
    "\n",
    "fit_linear = linear_reg.fit(x_train,y_train)\n",
    "\n",
    "dfscores = pd.DataFrame(fit.scores_)\n",
    "dfcolumns = pd.DataFrame(X.columns)\n",
    "#concat two dataframes for better visualization \n",
    "featureScores = pd.concat([dfcolumns,dfscores],axis=1)\n",
    "featureScores.columns = ['Specs','Score']  #naming the dataframe columns\n",
    "print(featureScores.nlargest(10,'Score'))  #print 10 best features"
   ]
  },
  {
   "cell_type": "code",
   "execution_count": 114,
   "id": "68d65b7a",
   "metadata": {},
   "outputs": [
    {
     "data": {
      "text/plain": [
       "(48895, 10)"
      ]
     },
     "execution_count": 114,
     "metadata": {},
     "output_type": "execute_result"
    }
   ],
   "source": [
    "nyc_mData.dtypes\n",
    "nyc_mData.shape"
   ]
  },
  {
   "cell_type": "code",
   "execution_count": 115,
   "id": "5400438b",
   "metadata": {},
   "outputs": [
    {
     "name": "stdout",
     "output_type": "stream",
     "text": [
      "host_id                             int64\n",
      "neighbourhood                       int16\n",
      "room_type                            int8\n",
      "minimum_nights                      int64\n",
      "number_of_reviews                   int64\n",
      "reviews_per_month                 float64\n",
      "calculated_host_listings_count      int64\n",
      "availability_365                    int64\n",
      "price                             float64\n",
      "dtype: object\n"
     ]
    }
   ],
   "source": [
    "X = nyc_xData\n",
    "y = nyc_mData[\"price\"]\n",
    "nyc_xData = nyc_xData.drop('neighbourhood_group', axis=1)\n",
    "nyc_xData['price'] = nyc_mData['price']\n",
    "print(nyc_xData.dtypes)\n",
    "nyc_xData.to_csv(\"../data/nyc_featureselected.csv\",index = False)"
   ]
  },
  {
   "cell_type": "code",
   "execution_count": 116,
   "id": "042b2b5e",
   "metadata": {},
   "outputs": [
    {
     "data": {
      "text/plain": [
       "host_id                             int64\n",
       "neighbourhood_group                  int8\n",
       "neighbourhood                       int16\n",
       "room_type                            int8\n",
       "price                             float64\n",
       "minimum_nights                      int64\n",
       "number_of_reviews                   int64\n",
       "reviews_per_month                 float64\n",
       "calculated_host_listings_count      int64\n",
       "availability_365                    int64\n",
       "dtype: object"
      ]
     },
     "execution_count": 116,
     "metadata": {},
     "output_type": "execute_result"
    }
   ],
   "source": [
    "nyc_mData.dtypes"
   ]
  },
  {
   "cell_type": "code",
   "execution_count": 117,
   "id": "78dc09da",
   "metadata": {},
   "outputs": [],
   "source": [
    "nyc_mData.to_csv(\"../data/nyc_without_featureselection.csv\",index = False)"
   ]
  }
 ],
 "metadata": {
  "kernelspec": {
   "display_name": "Python 3 (ipykernel)",
   "language": "python",
   "name": "python3"
  },
  "language_info": {
   "codemirror_mode": {
    "name": "ipython",
    "version": 3
   },
   "file_extension": ".py",
   "mimetype": "text/x-python",
   "name": "python",
   "nbconvert_exporter": "python",
   "pygments_lexer": "ipython3",
   "version": "3.9.12"
  }
 },
 "nbformat": 4,
 "nbformat_minor": 5
}
